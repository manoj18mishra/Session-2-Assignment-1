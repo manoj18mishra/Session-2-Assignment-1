{
 "cells": [
  {
   "cell_type": "markdown",
   "metadata": {},
   "source": [
    "### 1.  Write a program which accepts a sequence of comma-separated numbers from console and generate a list."
   ]
  },
  {
   "cell_type": "code",
   "execution_count": 1,
   "metadata": {},
   "outputs": [
    {
     "name": "stdout",
     "output_type": "stream",
     "text": [
      "Please enter comma seperated values: 1,as,q2,as,23,asga,hdsd,23,61,25\n",
      "['1', 'as', 'q2', 'as', '23', 'asga', 'hdsd', '23', '61', '25']\n"
     ]
    }
   ],
   "source": [
    "print(\"Please enter comma seperated values: \",end=\"\")\n",
    "csv=input()\n",
    "csvList = csv.split(',')\n",
    "print(csvList)"
   ]
  },
  {
   "cell_type": "markdown",
   "metadata": {},
   "source": [
    "### 2.  Create the below pattern using nested for loop in Python. \n",
    " \n",
    " \n",
    "    *  \n",
    "    * *  \n",
    "    * * * \n",
    "    * * * *  \n",
    "    * * * * *  \n",
    "    * * * *  \n",
    "    * * *  \n",
    "    * *  \n",
    "    * "
   ]
  },
  {
   "cell_type": "code",
   "execution_count": 2,
   "metadata": {},
   "outputs": [
    {
     "name": "stdout",
     "output_type": "stream",
     "text": [
      "\n",
      "* \n",
      "* * \n",
      "* * * \n",
      "* * * * \n",
      "* * * * * \n",
      "* * * * \n",
      "* * * \n",
      "* * \n",
      "* \n"
     ]
    }
   ],
   "source": [
    "n=6\n",
    "for i in range(n):\n",
    "    for j in range(i):\n",
    "        print(\"*\",end=\" \")\n",
    "    print(\"\")\n",
    "for i in range(n-2,0,-1):\n",
    "    for j in range(i):\n",
    "        print(\"*\",end=\" \")\n",
    "    print(\"\")"
   ]
  },
  {
   "cell_type": "markdown",
   "metadata": {},
   "source": [
    "### 3.  Write a Python program to reverse a word after accepting the input from the user. "
   ]
  },
  {
   "cell_type": "code",
   "execution_count": 3,
   "metadata": {},
   "outputs": [
    {
     "name": "stdout",
     "output_type": "stream",
     "text": [
      "Please enter the word which needs to be reversed: pneumonoultramicroscopicsilicovolcanoconiosis\n",
      "Reversed word: sisoinoconaclovociliscipocsorcimartluonomuenp\n"
     ]
    }
   ],
   "source": [
    "print(\"Please enter the word which needs to be reversed: \",end=\"\")\n",
    "word=input()\n",
    "revword = word[::-1]\n",
    "print(\"Reversed word: {}\".format(revword))"
   ]
  },
  {
   "cell_type": "code",
   "execution_count": null,
   "metadata": {},
   "outputs": [],
   "source": []
  }
 ],
 "metadata": {
  "kernelspec": {
   "display_name": "Python 3",
   "language": "python",
   "name": "python3"
  },
  "language_info": {
   "codemirror_mode": {
    "name": "ipython",
    "version": 3
   },
   "file_extension": ".py",
   "mimetype": "text/x-python",
   "name": "python",
   "nbconvert_exporter": "python",
   "pygments_lexer": "ipython3",
   "version": "3.6.5"
  }
 },
 "nbformat": 4,
 "nbformat_minor": 2
}
